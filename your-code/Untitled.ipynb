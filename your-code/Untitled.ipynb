{
 "cells": [
  {
   "cell_type": "code",
   "execution_count": 1,
   "metadata": {},
   "outputs": [
    {
     "ename": "SyntaxError",
     "evalue": "unexpected EOF while parsing (<ipython-input-1-7ee4b46f3d59>, line 40)",
     "output_type": "error",
     "traceback": [
      "\u001b[0;36m  File \u001b[0;32m\"<ipython-input-1-7ee4b46f3d59>\"\u001b[0;36m, line \u001b[0;32m40\u001b[0m\n\u001b[0;31m    def tranform_to_df():\u001b[0m\n\u001b[0m                         ^\u001b[0m\n\u001b[0;31mSyntaxError\u001b[0m\u001b[0;31m:\u001b[0m unexpected EOF while parsing\n"
     ]
    }
   ],
   "source": [
    "import os as os\n",
    "import requests \n",
    "import json\n",
    "\n",
    "\n",
    "\n",
    "\n",
    "def Sharpe_Ratio():\n",
    "\n",
    "    def download_stock_data(url_yahoo, parameters):\n",
    "    \n",
    "    \n",
    "        headers = {\n",
    "        'x-rapidapi-key': \"5978a55496msh35be22b262fe8acp19f68cjsn3abe53806b27\",\n",
    "        'x-rapidapi-host': \"yahoo-finance-low-latency.p.rapidapi.com\"\n",
    "        }\n",
    "        response = requests.request(\"GET\", url_yahoo, headers=headers, params=parameters)\n",
    "\n",
    "        return response.json()\n",
    "        \n",
    "        \n",
    "def make_df(response, parameters):            \n",
    "    for k,v in response.json():\n",
    "        k = pd.DataFrame(response[str(k)])\n",
    "        \n",
    "        \n",
    "            \n",
    "\n",
    "\n",
    "parameters = {\"symbols\":\"AAPL,MSFT,GME,^GSPC,\",\"range\":\"5y\",\"interval\":\"1d\"}\n",
    "#We create separate dataframes for our 4 stocks\n",
    "response1 = response\n",
    "MSFT = pd.DataFrame(response1['MSFT'])\n",
    "AAPL = pd.DataFrame(response1['AAPL'])\n",
    "GME = pd.DataFrame(response1['GME'])\n",
    "GSPC = pd.DataFrame(response1['^GSPC'])\n",
    "    "
   ]
  },
  {
   "cell_type": "code",
   "execution_count": null,
   "metadata": {},
   "outputs": [],
   "source": []
  }
 ],
 "metadata": {
  "kernelspec": {
   "display_name": "Python 3",
   "language": "python",
   "name": "python3"
  },
  "language_info": {
   "codemirror_mode": {
    "name": "ipython",
    "version": 3
   },
   "file_extension": ".py",
   "mimetype": "text/x-python",
   "name": "python",
   "nbconvert_exporter": "python",
   "pygments_lexer": "ipython3",
   "version": "3.8.5"
  }
 },
 "nbformat": 4,
 "nbformat_minor": 4
}
